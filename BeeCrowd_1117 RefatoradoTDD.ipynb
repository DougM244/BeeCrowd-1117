{
  "nbformat": 4,
  "nbformat_minor": 0,
  "metadata": {
    "colab": {
      "provenance": [],
      "authorship_tag": "ABX9TyP+j5w1Ttmjt0N3mfYBfVca",
      "include_colab_link": true
    },
    "kernelspec": {
      "name": "python3",
      "display_name": "Python 3"
    },
    "language_info": {
      "name": "python"
    }
  },
  "cells": [
    {
      "cell_type": "markdown",
      "metadata": {
        "id": "view-in-github",
        "colab_type": "text"
      },
      "source": [
        "<a href=\"https://colab.research.google.com/github/GhostM244/BeeCrowd-1117/blob/main/BeeCrowd_1117%20RefatoradoTDD.ipynb\" target=\"_parent\"><img src=\"https://colab.research.google.com/assets/colab-badge.svg\" alt=\"Open In Colab\"/></a>"
      ]
    },
    {
      "cell_type": "code",
      "execution_count": 3,
      "metadata": {
        "colab": {
          "base_uri": "https://localhost:8080/"
        },
        "id": "XB7yz5cJVhWA",
        "outputId": "1fefbd1e-79d7-48f0-f205-87161dcbf0b9"
      },
      "outputs": [
        {
          "output_type": "stream",
          "name": "stdout",
          "text": [
            "15.0\n",
            "nota invalida\n",
            "6.0\n",
            "4.0\n",
            "media = 5.00\n"
          ]
        }
      ],
      "source": [
        "i = 0\n",
        "soma = 0\n",
        "\n",
        "while(i<2):\n",
        "    x = float(input())\n",
        "    if(x>=0 and x<=10):\n",
        "        soma += x\n",
        "        i += 1\n",
        "    else:\n",
        "        print(\"nota invalida\")\n",
        "        \n",
        "print(\"media = %.2f\" %(soma/2))\n",
        "\n",
        "def bee_1117(nota_1, nota_2):\n",
        "  somatorioNotas=0\n",
        "\n",
        "  if(nota_1>10 or nota_1<0 or nota_2>10 or nota_2<0):\n",
        "    return \"Nota invalida\"\n",
        "  \n",
        "  somatorioNotas = nota_1 + nota_2\n",
        "  return \"media {0:.2f}\".format(somatorioNotas/2)\n",
        "\n",
        "  import unittest\n",
        "\n",
        "  class ValidacaoNota(unittest.TestCase):\n",
        "\n",
        "    def test_validacaonota_valor_negativo_1(self):\n",
        "      self.assertEqual(bee_1117(-3, 3.5), \"nota invalida\")\n",
        "\n",
        "    def test_validacaonota_valor_acima_1(self):\n",
        "      self.assertEqual(bee_1117(3.5, 11.0), \"nota invalida\")\n",
        "\n",
        "    def test_validacaonota_1(self):\n",
        "      self.assertEqual(bee_1117(3.5, 10.0), \"media = 6.75\")\n",
        "\n",
        "    def test_validacaonota_2(self):\n",
        "      self.assertEqual(bee_1117(6.0, 4.0), \"media = 5.00\")\n",
        "\n",
        "    def test_validacaonota_acima_2(self):\n",
        "      self.assertEqual(bee_1117(34.0, 5.0), \"nota invalida\")\n",
        "\n",
        "    def test_validacaonota_3(self):\n",
        "      self.assertEqual(bee_1117(2.5, 8.5), \"media = 5.50\")\n",
        "\n",
        "    def test_validacaonota_valor_negativo_2(self):\n",
        "      self.assertEqual(bee_1117(15.0, -2.5), \"nota invalida\")\n",
        "\n",
        "  if __name__ == '__main__':\n",
        "    unittest.main()"
      ]
    }
  ]
}